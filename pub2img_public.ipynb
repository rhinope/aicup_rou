{
 "cells": [
  {
   "cell_type": "markdown",
   "metadata": {},
   "source": [
    "# 將圖片編號改名，並接續Training data\n",
    "\n",
    "如:Public_00000000  $\\rightarrow$ 00001052 \\\n",
    "如:Public_00000001  $\\rightarrow$ 00001053 \\\n",
    "... \\\n",
    "..."
   ]
  },
  {
   "cell_type": "code",
   "execution_count": 1,
   "metadata": {},
   "outputs": [],
   "source": [
    "import os\n",
    "import glob\n",
    "from PIL import Image\n",
    "import numpy as np"
   ]
  },
  {
   "cell_type": "code",
   "execution_count": 2,
   "metadata": {},
   "outputs": [
    {
     "data": {
      "text/plain": [
       "'00001053.png'"
      ]
     },
     "execution_count": 2,
     "metadata": {},
     "output_type": "execute_result"
    }
   ],
   "source": [
    "pubs = glob.glob(r\"ann_plus\\*.png\")\n",
    "filemame = \"0000\" + str(int(pubs[0].split(\"\\\\\")[-1].split(\"_\")[-1].split(\".\")[0]) + 1053)\n",
    "filemame = filemame + \".png\"\n",
    "filemame\n",
    "# pubs"
   ]
  },
  {
   "cell_type": "code",
   "execution_count": 3,
   "metadata": {},
   "outputs": [],
   "source": [
    "for data in pubs:\n",
    "\n",
    "    filemame = \"0000\" + str(int(data.split(\"\\\\\")[-1].split(\"_\")[-1].split(\".\")[0]) + 1053)\n",
    "    filemame = filemame + \".png\"\n",
    "    os.rename(data, f\"ann_plus\\\\{filemame}\")"
   ]
  },
  {
   "cell_type": "code",
   "execution_count": 4,
   "metadata": {},
   "outputs": [
    {
     "data": {
      "text/plain": [
       "['C:\\\\\\\\Users\\\\\\\\BOIL_PO\\\\\\\\Desktop\\\\\\\\public_0.914\\\\\\\\ann_plus\\\\00001053.png',\n",
       " 'C:\\\\\\\\Users\\\\\\\\BOIL_PO\\\\\\\\Desktop\\\\\\\\public_0.914\\\\\\\\ann_plus\\\\00001054.png',\n",
       " 'C:\\\\\\\\Users\\\\\\\\BOIL_PO\\\\\\\\Desktop\\\\\\\\public_0.914\\\\\\\\ann_plus\\\\00001055.png',\n",
       " 'C:\\\\\\\\Users\\\\\\\\BOIL_PO\\\\\\\\Desktop\\\\\\\\public_0.914\\\\\\\\ann_plus\\\\00001056.png',\n",
       " 'C:\\\\\\\\Users\\\\\\\\BOIL_PO\\\\\\\\Desktop\\\\\\\\public_0.914\\\\\\\\ann_plus\\\\00001057.png']"
      ]
     },
     "execution_count": 4,
     "metadata": {},
     "output_type": "execute_result"
    }
   ],
   "source": [
    "pubs = glob.glob(r\"ann_plus\\*.png\")\n",
    "pubs[:5]"
   ]
  },
  {
   "cell_type": "code",
   "execution_count": 6,
   "metadata": {},
   "outputs": [],
   "source": [
    "for old in pubs:\n",
    "    img = Image.open(old).convert('L')\n",
    "    img.save(old)"
   ]
  }
 ],
 "metadata": {
  "interpreter": {
   "hash": "ad2bdc8ecc057115af97d19610ffacc2b4e99fae6737bb82f5d7fb13d2f2c186"
  },
  "kernelspec": {
   "display_name": "Python 3.9.7 ('base')",
   "language": "python",
   "name": "python3"
  },
  "language_info": {
   "codemirror_mode": {
    "name": "ipython",
    "version": 3
   },
   "file_extension": ".py",
   "mimetype": "text/x-python",
   "name": "python",
   "nbconvert_exporter": "python",
   "pygments_lexer": "ipython3",
   "version": "3.9.7"
  },
  "orig_nbformat": 4
 },
 "nbformat": 4,
 "nbformat_minor": 2
}
